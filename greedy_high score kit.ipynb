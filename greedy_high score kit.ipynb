{
 "cells": [
  {
   "cell_type": "markdown",
   "metadata": {},
   "source": [
    "# 체육복"
   ]
  },
  {
   "cell_type": "code",
   "execution_count": 1,
   "metadata": {},
   "outputs": [],
   "source": [
    "def solution(n, lost ,reserve):\n",
    "    set_reserve=set(reserve)-set(lost)\n",
    "    set_lost=set(lost)-set(reserve)\n",
    "    \n",
    "    for i in set_reserve:\n",
    "        if i-1 in set_lost:\n",
    "            set_lost.remove(i-1)\n",
    "        elif i+1 in set_lost:\n",
    "            set_lost.remove(i+1)\n",
    "    return n-len(set_lost)"
   ]
  },
  {
   "cell_type": "markdown",
   "metadata": {},
   "source": [
    "# 조이스틱"
   ]
  },
  {
   "cell_type": "code",
   "execution_count": 2,
   "metadata": {},
   "outputs": [],
   "source": [
    "def solution(name):\n",
    "    make_name = [min(ord(i) - ord(\"A\"), ord(\"Z\") - ord(i)+1) for i in name]\n",
    "    idx, answer = 0, 0\n",
    "    while True:\n",
    "        answer += make_name[idx]\n",
    "        make_name[idx] = 0\n",
    "        if sum(make_name) ==0:\n",
    "            break\n",
    "        left, right = 1, 1\n",
    "        while make_name[idx - left] ==0:\n",
    "            left +=1\n",
    "        while make_name[idx + right] ==0:\n",
    "            right +=1\n",
    "        answer += left if left < right else right\n",
    "        idx += -left if left < right else right\n",
    "    return answer"
   ]
  },
  {
   "cell_type": "markdown",
   "metadata": {},
   "source": [
    "# 큰 수 만들기"
   ]
  },
  {
   "cell_type": "code",
   "execution_count": 4,
   "metadata": {},
   "outputs": [],
   "source": [
    "def solution(number, k):\n",
    "    # stack에 입력값을 순서대로 삽입 \n",
    "    stack = [number[0]]\n",
    "    for num in number[1:]:\n",
    "       \n",
    "        while len(stack) > 0 and stack[-1] < num and k > 0:\n",
    "            # 값을 한개 빼서 k는 1이 제거 \n",
    "            k -= 1\n",
    "            # 내부의 값을 제거 \n",
    "            stack.pop()\n",
    "        # 새로운 값을 삽입 \n",
    "        stack.append(num)\n",
    " \n",
    "    if k != 0:\n",
    "        stack = stack[:-k]\n",
    "    return ''.join(stack)"
   ]
  },
  {
   "cell_type": "markdown",
   "metadata": {},
   "source": [
    "# 구명 보트"
   ]
  },
  {
   "cell_type": "code",
   "execution_count": 5,
   "metadata": {},
   "outputs": [],
   "source": [
    "def solution(people, limit):\n",
    "    \n",
    "    people.sort()\n",
    "    j=len(people)-1\n",
    "    i=0\n",
    "    boat=0\n",
    "    \n",
    "    while i<=j:\n",
    "        if people[j]+people[i] <= limit:\n",
    "            boat+=1\n",
    "            \n",
    "            i+=1\n",
    "        j-=1    \n",
    "    return boat\n",
    "\n",
    "#실패"
   ]
  },
  {
   "cell_type": "code",
   "execution_count": null,
   "metadata": {},
   "outputs": [],
   "source": []
  }
 ],
 "metadata": {
  "kernelspec": {
   "display_name": "Python 3",
   "language": "python",
   "name": "python3"
  },
  "language_info": {
   "codemirror_mode": {
    "name": "ipython",
    "version": 3
   },
   "file_extension": ".py",
   "mimetype": "text/x-python",
   "name": "python",
   "nbconvert_exporter": "python",
   "pygments_lexer": "ipython3",
   "version": "3.8.5"
  }
 },
 "nbformat": 4,
 "nbformat_minor": 4
}
