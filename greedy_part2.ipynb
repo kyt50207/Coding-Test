{
 "cells": [
  {
   "cell_type": "markdown",
   "metadata": {},
   "source": [
    "# 2_1 거스름돈"
   ]
  },
  {
   "cell_type": "code",
   "execution_count": 6,
   "metadata": {},
   "outputs": [
    {
     "name": "stdout",
     "output_type": "stream",
     "text": [
      "1080\n",
      "6\n"
     ]
    }
   ],
   "source": [
    "n= int(input())\n",
    "count= 0 \n",
    "#큰 단위의 화폐부터 차례대로 확인\n",
    "coin_type = [500,100,50,10]\n",
    "\n",
    "for coin in coin_type:\n",
    "    count += n //coin\n",
    "    n %= coin\n",
    "\n",
    "print(count)"
   ]
  },
  {
   "cell_type": "markdown",
   "metadata": {},
   "source": [
    "# 2_2 큰 수의 법칙"
   ]
  },
  {
   "cell_type": "code",
   "execution_count": 12,
   "metadata": {},
   "outputs": [
    {
     "name": "stdout",
     "output_type": "stream",
     "text": [
      "4 8 2\n",
      "5 7 9 3\n",
      "68\n"
     ]
    }
   ],
   "source": [
    "# N , M , K를 공백으로 구분하여 입력받기\n",
    "n,m,k = map(int,input().split())\n",
    "# N개의 수를 공백으로 구분하여 입력받기\n",
    "data= list(map(int,input().split()))\n",
    "\n",
    "\n",
    "data.sort() #입력받은 수들 정렬하기\n",
    "first = data[n-1]\n",
    "second = data[n-2]\n",
    "\n",
    "result = 0\n",
    "\n",
    "while True:\n",
    "    for i in range(k): #가장 큰 수를 K번 더하기\n",
    "        if m ==0: #m이 0이라면 반복문 탈출\n",
    "            break\n",
    "        result += first\n",
    "        m -= 1 #더할때마다 1씩 빼기\n",
    "    if m == 0: #m이 0이면 탈출\n",
    "        break\n",
    "    result +=second #두번째로 큰 수를 한 번 더하기\n",
    "    m -= 1 #더할때마다 1씩 빼기\n",
    "\n",
    "print(result)"
   ]
  },
  {
   "cell_type": "code",
   "execution_count": 13,
   "metadata": {},
   "outputs": [
    {
     "name": "stdout",
     "output_type": "stream",
     "text": [
      "4 8 2\n",
      "5 7 9 3\n",
      "68\n"
     ]
    }
   ],
   "source": [
    "# N , M , K를 공백으로 구분하여 입력받기\n",
    "n,m,k = map(int,input().split())\n",
    "# N개의 수를 공백으로 구분하여 입력받기\n",
    "data= list(map(int,input().split()))\n",
    "\n",
    "\n",
    "data.sort() #입력받은 수들 정렬하기\n",
    "first = data[n-1]\n",
    "second = data[n-2]\n",
    "\n",
    "#가장 큰 수가 더해지는 횟수 계산\n",
    "count = int(m/(k+1))*k\n",
    "count += m%(k+1)\n",
    "\n",
    "result = 0\n",
    "result += (count)*first #가장 큰 수 더하기\n",
    "result += (m-count)*second #두번째로 큰 수 더하기\n",
    "\n",
    "print(result)"
   ]
  },
  {
   "cell_type": "markdown",
   "metadata": {},
   "source": [
    "# 2_3 숫자 카드 게임"
   ]
  },
  {
   "cell_type": "code",
   "execution_count": 15,
   "metadata": {},
   "outputs": [
    {
     "name": "stdout",
     "output_type": "stream",
     "text": [
      "3 3\n",
      "3 1 2\n",
      "4 1 4\n",
      "2 2 2\n",
      "2\n"
     ]
    }
   ],
   "source": [
    "# min 함수를 이용하는 답안\n",
    "\n",
    "# N, M을 공백으로 구분하여 입력받기\n",
    "n,m = map(int,input().split())\n",
    "\n",
    "result=0\n",
    "# 한 줄씩 입력받아 확인\n",
    "for i in range(n):\n",
    "    data= list(map(int,input().split()))\n",
    "    #현재 줄에서 가장 작은 수 찾기\n",
    "    min_value = min(data)\n",
    "    #가장 작은 ㅅ들 중에서 가장 큰 수 찾기\n",
    "    result = max(result,min_value)\n",
    "\n",
    "print(result)"
   ]
  },
  {
   "cell_type": "code",
   "execution_count": 16,
   "metadata": {},
   "outputs": [
    {
     "name": "stdout",
     "output_type": "stream",
     "text": [
      "2 4\n",
      "7 3 1 8\n",
      "3 3 3 4\n",
      "3\n"
     ]
    }
   ],
   "source": [
    "#2중 반복문 구조를 이용하는 답안\n",
    "\n",
    "# N, M을 공백으로 구분하여 입력받기\n",
    "n,m = map(int,input().split())\n",
    "\n",
    "result=0\n",
    "# 한 줄씩 입력받아 확인\n",
    "for i in range(n):\n",
    "    data= list(map(int,input().split()))\n",
    "    #현재 줄에서 가장 작은 수 찾기\n",
    "    min_value = 10001\n",
    "    for a in data:\n",
    "        min_value= min(min_value,a)\n",
    "    #가장 작은 수들 중에서 가장 큰 수 찾기\n",
    "    result = max(result,min_value)\n",
    "\n",
    "print(result)"
   ]
  },
  {
   "cell_type": "markdown",
   "metadata": {},
   "source": [
    "# 2_4 1이 될 때까지\n"
   ]
  },
  {
   "cell_type": "code",
   "execution_count": 20,
   "metadata": {},
   "outputs": [
    {
     "name": "stdout",
     "output_type": "stream",
     "text": [
      "82 3\n",
      "5\n"
     ]
    }
   ],
   "source": [
    "n,k = map(int,input().split())\n",
    "result = 0\n",
    "\n",
    "# N이 K이상이라면 K로 계속 나누기\n",
    "while n >= k:\n",
    "    # N이 K로 나눠지지 않으면 N에서 1씩 빼기\n",
    "    while n%k !=0:\n",
    "        n -=1\n",
    "        result += 1\n",
    "    # K로 나누기\n",
    "    n //= k\n",
    "    result += 1\n",
    "#마지막으로 남은 수에 대하여 1씩 빼기\n",
    "while n>1:\n",
    "    n -=1\n",
    "    result += 1\n",
    "print(result)"
   ]
  },
  {
   "cell_type": "code",
   "execution_count": 21,
   "metadata": {},
   "outputs": [
    {
     "name": "stdout",
     "output_type": "stream",
     "text": [
      "82 3\n",
      "5\n"
     ]
    }
   ],
   "source": [
    "n,k = map(int,input().split())\n",
    "result = 0\n",
    "\n",
    "# N== K로 나누어 떨어지는 수가 될 때 까지 1씩 빼기\n",
    "while True:\n",
    "    target = (n//k) * k\n",
    "    result += (n- target)\n",
    "    n = target\n",
    "    \n",
    "    # N이 K보다 작을 때  반복문 탈출\n",
    "    if n < k :\n",
    "        break\n",
    "    # K로 나누기\n",
    "    result += 1\n",
    "    n //=k\n",
    "\n",
    "result += (n-1)\n",
    "print(result)"
   ]
  }
 ],
 "metadata": {
  "kernelspec": {
   "display_name": "Python 3",
   "language": "python",
   "name": "python3"
  },
  "language_info": {
   "codemirror_mode": {
    "name": "ipython",
    "version": 3
   },
   "file_extension": ".py",
   "mimetype": "text/x-python",
   "name": "python",
   "nbconvert_exporter": "python",
   "pygments_lexer": "ipython3",
   "version": "3.8.5"
  }
 },
 "nbformat": 4,
 "nbformat_minor": 4
}
