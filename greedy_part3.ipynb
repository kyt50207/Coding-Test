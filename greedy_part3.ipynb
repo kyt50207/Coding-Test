{
 "cells": [
  {
   "cell_type": "markdown",
   "metadata": {},
   "source": [
    "# 3_1모험가길드"
   ]
  },
  {
   "cell_type": "code",
   "execution_count": 5,
   "metadata": {},
   "outputs": [
    {
     "name": "stdout",
     "output_type": "stream",
     "text": [
      "5\n",
      "2 3 1 2 1\n",
      "3\n"
     ]
    }
   ],
   "source": [
    "n= int(input())\n",
    "travler= list(map(int,input().split()))\n",
    "travler.sort()\n",
    "\n",
    "cnt= sum = 0\n",
    "for t in travler:\n",
    "    sum += 1\n",
    "    if sum == t:\n",
    "        cnt += 1\n",
    "        sum =0\n",
    "print(cnt)"
   ]
  },
  {
   "cell_type": "markdown",
   "metadata": {},
   "source": [
    "# 3_2곱하기 혹은 더하기"
   ]
  },
  {
   "cell_type": "code",
   "execution_count": 11,
   "metadata": {},
   "outputs": [
    {
     "name": "stdout",
     "output_type": "stream",
     "text": [
      "53\n",
      "15\n"
     ]
    }
   ],
   "source": [
    "s = input()\n",
    "n= len(s)\n",
    "result = 0\n",
    "for i in s:\n",
    "    if i == \"0\" or result == 0 :\n",
    "        result += int(i)\n",
    "    else:\n",
    "        result *= int(i)\n",
    "print(result)"
   ]
  },
  {
   "cell_type": "markdown",
   "metadata": {},
   "source": [
    "# 3_3 문자열 뒤집기"
   ]
  },
  {
   "cell_type": "code",
   "execution_count": 23,
   "metadata": {},
   "outputs": [
    {
     "name": "stdout",
     "output_type": "stream",
     "text": [
      "111001010111\n",
      "3\n"
     ]
    }
   ],
   "source": [
    "data = input()\n",
    "\n",
    "count0 = 0\n",
    "count1 = 0\n",
    "\n",
    "if data[0] == '1':\n",
    "    count0 += 1\n",
    "else : \n",
    "    count1 += 1\n",
    "\n",
    "for i in range(len(data) -1) :\n",
    "    if data[i] != data[i+1]:\n",
    "        if data[i+1] == '1':\n",
    "            count0 += 1\n",
    "        else :\n",
    "            count1 += 1\n",
    "\n",
    "print(min(count0, count1))"
   ]
  },
  {
   "cell_type": "markdown",
   "metadata": {},
   "source": [
    "# 3_4 만들 수 없는 금액"
   ]
  },
  {
   "cell_type": "code",
   "execution_count": 25,
   "metadata": {},
   "outputs": [
    {
     "name": "stdout",
     "output_type": "stream",
     "text": [
      "5\n",
      "3 2 1 1 9\n",
      "8\n"
     ]
    }
   ],
   "source": [
    "n = int(input()) \n",
    "unit = list(map(int, input().split())) \n",
    "unit.sort() \n",
    "result = 1 \n",
    "for i in unit: \n",
    "    if result < i: \n",
    "        break \n",
    "    result = result + i \n",
    "print(result)\n"
   ]
  },
  {
   "cell_type": "markdown",
   "metadata": {},
   "source": [
    "# 3_5 볼링공 고르기"
   ]
  },
  {
   "cell_type": "markdown",
   "metadata": {},
   "source": [
    "# 3_6 무지의 먹방 라이브"
   ]
  },
  {
   "cell_type": "code",
   "execution_count": null,
   "metadata": {},
   "outputs": [],
   "source": []
  }
 ],
 "metadata": {
  "kernelspec": {
   "display_name": "Python 3",
   "language": "python",
   "name": "python3"
  },
  "language_info": {
   "codemirror_mode": {
    "name": "ipython",
    "version": 3
   },
   "file_extension": ".py",
   "mimetype": "text/x-python",
   "name": "python",
   "nbconvert_exporter": "python",
   "pygments_lexer": "ipython3",
   "version": "3.8.5"
  }
 },
 "nbformat": 4,
 "nbformat_minor": 4
}
